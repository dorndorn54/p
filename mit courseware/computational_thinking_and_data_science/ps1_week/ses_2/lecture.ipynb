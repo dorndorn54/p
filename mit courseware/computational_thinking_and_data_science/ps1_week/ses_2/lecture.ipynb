{
 "cells": [
  {
   "cell_type": "markdown",
   "metadata": {},
   "source": [
    "### dynamic programming\n",
    "\n",
    "search tree format\n",
    "- left first depth first enumeration\n",
    "\n",
    "- time based on the total number of nodes generated\n",
    "- how many nodes are there on each level\n",
    "- number of nodes at level i is 2^i\n",
    "- if there are n items the number of nodes is O(2^(n+1))"
   ]
  },
  {
   "cell_type": "code",
   "execution_count": null,
   "metadata": {},
   "outputs": [],
   "source": [
    "def maxVal(toconsider, avail):\n",
    "    \"\"\"_returns a tuple of the total value of a solution to 0/1\n",
    "    knapsack problem and the items of that solution_\n",
    "\n",
    "    Args:\n",
    "        toconsider (_list of items_): _description_\n",
    "        avail (_int_): _description_\n",
    "    \"\"\""
   ]
  },
  {
   "cell_type": "code",
   "execution_count": 3,
   "metadata": {},
   "outputs": [
    {
     "data": {
      "text/plain": [
       "8"
      ]
     },
     "execution_count": 3,
     "metadata": {},
     "output_type": "execute_result"
    }
   ],
   "source": [
    "def fib(n):\n",
    "    if n == 0 or n == 1:\n",
    "        return 1\n",
    "    else:\n",
    "        return fib(n-1)+ fib(n-2)\n",
    "    \n",
    "fib(5)"
   ]
  },
  {
   "cell_type": "markdown",
   "metadata": {},
   "source": [
    "#### optimal substructure\n",
    "a globally optimal solution can be found by combining a optimal solution to local subproblems\n",
    "\n",
    "#### overlapping subproblems\n",
    "finding an optimal solution means one has to solve the same problem more than once"
   ]
  }
 ],
 "metadata": {
  "kernelspec": {
   "display_name": "Python 3",
   "language": "python",
   "name": "python3"
  },
  "language_info": {
   "codemirror_mode": {
    "name": "ipython",
    "version": 3
   },
   "file_extension": ".py",
   "mimetype": "text/x-python",
   "name": "python",
   "nbconvert_exporter": "python",
   "pygments_lexer": "ipython3",
   "version": "3.11.7"
  }
 },
 "nbformat": 4,
 "nbformat_minor": 2
}
