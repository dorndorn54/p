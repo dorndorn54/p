{
 "cells": [
  {
   "cell_type": "markdown",
   "metadata": {},
   "source": [
    "### Graph optimisation problems\n",
    "Graph is a set of objects called nodes connected by edges\n",
    "\n",
    "If edges are unidrectional, the grapg is called a directed graph / digraph. If there is an edge from n1 to n2, n1 is the source / parent node and n2 is the destination / child node\n",
    "\n",
    "source of E0 is n1, the desintation of En is n2\n",
    "\n",
    "#### Represent a city\n",
    "- weighted graph can be used\n",
    "- highwat can be represented as a graph, cities are nodes and highway are edges\n",
    "- a weight is applied based on the density of the area"
   ]
  },
  {
   "cell_type": "code",
   "execution_count": 1,
   "metadata": {},
   "outputs": [],
   "source": [
    "class Node(object):\n",
    "    def __init__(self, name):\n",
    "        \"\"\"assumes name is a string\"\"\"\n",
    "        self._name = name\n",
    "        # the two functions below return the same thing\n",
    "    def get_name(self):\n",
    "        return self._name\n",
    "    def __str__(self):\n",
    "        return self._name\n",
    "\n",
    "class Edge(object):\n",
    "    def __iit__(self, src, dest):\n",
    "        \"\"\"\"assumes src and dest are nodes\"\"\"\n",
    "        self._src = src\n",
    "        self._dest = dest\n",
    "    def get_source(self):\n",
    "        return self._src\n",
    "    def get_destination(self):\n",
    "        return self._dest\n",
    "    def __str__(self):\n",
    "        return self._src.get_name() + '->' + self._dest.get_name()\n",
    "    \n",
    "class Weighted_edge(Edge):\n",
    "    def __init__(self, src, dest, weight = 1.0):\n",
    "        \"\"\"assumes arc and dest are nodes, weight is a number\"\"\"\n",
    "        self._src = src\n",
    "        self._dest = dest\n",
    "        self._weight = weight\n",
    "    def get_weight(self):\n",
    "        return self._weight\n",
    "    def __str__(self):\n",
    "        return(f'{self._src.get_name()}->({self._weigt})' + f'{self._dest.get_name}')"
   ]
  }
 ],
 "metadata": {
  "kernelspec": {
   "display_name": "Python 3",
   "language": "python",
   "name": "python3"
  },
  "language_info": {
   "codemirror_mode": {
    "name": "ipython",
    "version": 3
   },
   "file_extension": ".py",
   "mimetype": "text/x-python",
   "name": "python",
   "nbconvert_exporter": "python",
   "pygments_lexer": "ipython3",
   "version": "3.11.7"
  }
 },
 "nbformat": 4,
 "nbformat_minor": 2
}
