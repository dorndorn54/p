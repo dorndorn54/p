{
 "cells": [
  {
   "cell_type": "markdown",
   "metadata": {},
   "source": [
    "### Summary to the lecture"
   ]
  },
  {
   "cell_type": "markdown",
   "metadata": {},
   "source": [
    "#### Computational Models\n",
    "##### Optimisation Models\n",
    "> a function that is to be maximised or minimised within a set of constraints\n",
    "\n",
    "two variants\n",
    "- 0/1 knapsack problem\n",
    "- continuous napsack problem\n",
    "\n",
    "Only allowed 1500 calories of food. There are many types of food with different calories\n",
    "\n",
    "\n",
    "###### Formalised\n",
    "\n",
    "- Each item is represented by a pair <value, weight>\n",
    "- Knapsack can hold a total no more than W\n",
    "- Vector L, length n represents the set of availabke items.\n",
    "- Vecor V, of length n, indicates if item is taken if V[i] = 1, item I[i] is taken.\n",
    "\n",
    "Brute force algorithm\n",
    "- enumerate all possible combinations of items, generate all subsets of the set of items\n",
    "- a powerset includes an empty set, the full set and all the subsets\n",
    "- remove all sets where weight exceeds\n",
    "- choose any one with the max value stipulated by weight\n",
    "\n",
    "limitation is what if there are many items\n",
    "\n",
    "There are no best solutions but there are relatively good ones\n",
    "\n",
    "```\n",
    "while napsack empty:\n",
    "    fill it with best items\n",
    "```"
   ]
  }
 ],
 "metadata": {
  "language_info": {
   "name": "python"
  }
 },
 "nbformat": 4,
 "nbformat_minor": 2
}
