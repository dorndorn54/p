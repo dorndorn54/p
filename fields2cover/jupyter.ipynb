{
 "cells": [
  {
   "cell_type": "code",
   "execution_count": 5,
   "metadata": {},
   "outputs": [
    {
     "name": "stdout",
     "output_type": "stream",
     "text": [
      "Polygon Vertices:\n",
      "(4.2, 0.0)\n",
      "(1.3, 1.6)\n",
      "(-0.9, 4.1)\n",
      "(-1.9, 0.9)\n",
      "(-3.8, -1.8)\n",
      "(-0.5, -2.0)\n",
      "(2.6, -3.3)\n"
     ]
    }
   ],
   "source": [
    "import numpy as np\n",
    "\n",
    "def generate_obtuse_polygon_with_area(n, target_area):\n",
    "    # Ensure n is odd\n",
    "    if n % 2 == 0:\n",
    "        n += 1\n",
    "\n",
    "    # Initialize variables\n",
    "    current_area = 0\n",
    "    size = 1.0  # Initial size\n",
    "    vertices = []\n",
    "\n",
    "    while current_area < target_area:\n",
    "        # Generate convex and concave vertices alternately\n",
    "        angles = np.linspace(0, 2 * np.pi, n, endpoint=False)\n",
    "        vertices.clear()\n",
    "        for i in range(n):\n",
    "            angle = angles[i]\n",
    "            if i % 2 == 0:\n",
    "                vertices.append((size * np.cos(angle), size * np.sin(angle)))\n",
    "            else:\n",
    "                vertices.append((size * 0.5 * np.cos(angle), size * 0.5 * np.sin(angle)))\n",
    "\n",
    "        # Calculate the area of the generated polygon\n",
    "        current_area = 0.5 * np.abs(np.dot(np.array(vertices[:-1])[:, 0], np.array(vertices[1:])[:, 1]) -\n",
    "                                    np.dot(np.array(vertices[:-1])[:, 1], np.array(vertices[1:])[:, 0]))\n",
    "\n",
    "        # Adjust size for next iteration\n",
    "        size += 0.1\n",
    "\n",
    "    # Round coordinates to 1 decimal point\n",
    "    rounded_vertices = [(round(x, 1), round(y, 1)) for x, y in vertices]\n",
    "\n",
    "    return rounded_vertices\n",
    "\n",
    "# Example: Generate an obtuse polygon with area approximately 20\n",
    "polygon_vertices = generate_obtuse_polygon_with_area(7, 20)\n",
    "print(\"Polygon Vertices:\")\n",
    "for vertex in polygon_vertices:\n",
    "    print(vertex)\n"
   ]
  }
 ],
 "metadata": {
  "kernelspec": {
   "display_name": "Python 3",
   "language": "python",
   "name": "python3"
  },
  "language_info": {
   "codemirror_mode": {
    "name": "ipython",
    "version": 3
   },
   "file_extension": ".py",
   "mimetype": "text/x-python",
   "name": "python",
   "nbconvert_exporter": "python",
   "pygments_lexer": "ipython3",
   "version": "3.10.12"
  }
 },
 "nbformat": 4,
 "nbformat_minor": 2
}
