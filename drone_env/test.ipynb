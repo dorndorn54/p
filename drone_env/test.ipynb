{
 "cells": [
  {
   "cell_type": "code",
   "execution_count": 1,
   "metadata": {},
   "outputs": [
    {
     "name": "stdout",
     "output_type": "stream",
     "text": [
      "{(0, 0): [(0, 1), (1, 0), (1, 1)], (0, 1): [(0, 0), (0, 2), (1, 0), (1, 1), (1, 2)], (0, 2): [(0, 1), (0, 3), (1, 1), (1, 2), (1, 3)], (0, 3): [(0, 2), (0, 4), (1, 2), (1, 3), (1, 4)], (0, 4): [(0, 3), (1, 3), (1, 4)], (1, 0): [(0, 0), (0, 1), (1, 1), (2, 0), (2, 1)], (1, 1): [(0, 0), (0, 1), (0, 2), (1, 0), (1, 2), (2, 0), (2, 1), (2, 2)], (1, 2): [(0, 1), (0, 2), (0, 3), (1, 1), (1, 3), (2, 1), (2, 2), (2, 3)], (1, 3): [(0, 2), (0, 3), (0, 4), (1, 2), (1, 4), (2, 2), (2, 3), (2, 4)], (1, 4): [(0, 3), (0, 4), (1, 3), (2, 3), (2, 4)], (2, 0): [(1, 0), (1, 1), (2, 1), (3, 0), (3, 1)], (2, 1): [(1, 0), (1, 1), (1, 2), (2, 0), (2, 2), (3, 0), (3, 1), (3, 2)], (2, 2): [(1, 1), (1, 2), (1, 3), (2, 1), (2, 3), (3, 1), (3, 2), (3, 3)], (2, 3): [(1, 2), (1, 3), (1, 4), (2, 2), (2, 4), (3, 2), (3, 3), (3, 4)], (2, 4): [(1, 3), (1, 4), (2, 3), (3, 3), (3, 4)], (3, 0): [(2, 0), (2, 1), (3, 1), (4, 0), (4, 1)], (3, 1): [(2, 0), (2, 1), (2, 2), (3, 0), (3, 2), (4, 0), (4, 1), (4, 2)], (3, 2): [(2, 1), (2, 2), (2, 3), (3, 1), (3, 3), (4, 1), (4, 2), (4, 3)], (3, 3): [(2, 2), (2, 3), (2, 4), (3, 2), (3, 4), (4, 2), (4, 3), (4, 4)], (3, 4): [(2, 3), (2, 4), (3, 3), (4, 3), (4, 4)], (4, 0): [(3, 0), (3, 1), (4, 1)], (4, 1): [(3, 0), (3, 1), (3, 2), (4, 0), (4, 2)], (4, 2): [(3, 1), (3, 2), (3, 3), (4, 1), (4, 3)], (4, 3): [(3, 2), (3, 3), (3, 4), (4, 2), (4, 4)], (4, 4): [(3, 3), (3, 4), (4, 3)]}\n"
     ]
    }
   ],
   "source": [
    "def generate_neighbors_dict(width, height):\n",
    "    neighbors_dict = {}\n",
    "    for x in range(width):\n",
    "        for y in range(height):\n",
    "            neighbors = []\n",
    "            for dx in [-1, 0, 1]:\n",
    "                for dy in [-1, 0, 1]:\n",
    "                    if dx != 0 or dy != 0:\n",
    "                        neighbor_x = x + dx\n",
    "                        neighbor_y = y + dy\n",
    "                        if 0 <= neighbor_x < width and 0 <= neighbor_y < height:\n",
    "                            neighbors.append((neighbor_x, neighbor_y))\n",
    "            neighbors_dict[(x, y)] = neighbors\n",
    "    return neighbors_dict\n",
    "\n",
    "# Example usage:\n",
    "width = 5\n",
    "height = 5\n",
    "neighbors_dict = generate_neighbors_dict(width, height)\n",
    "print(neighbors_dict)\n"
   ]
  }
 ],
 "metadata": {
  "kernelspec": {
   "display_name": "Python 3",
   "language": "python",
   "name": "python3"
  },
  "language_info": {
   "codemirror_mode": {
    "name": "ipython",
    "version": 3
   },
   "file_extension": ".py",
   "mimetype": "text/x-python",
   "name": "python",
   "nbconvert_exporter": "python",
   "pygments_lexer": "ipython3",
   "version": "3.10.12"
  }
 },
 "nbformat": 4,
 "nbformat_minor": 2
}
