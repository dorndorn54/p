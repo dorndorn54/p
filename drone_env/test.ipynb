{
 "cells": [
  {
   "cell_type": "code",
   "execution_count": 6,
   "metadata": {},
   "outputs": [
    {
     "name": "stdout",
     "output_type": "stream",
     "text": [
      "[[0 0 0 0 0 0 0 0 0 0]\n",
      " [0 0 0 0 0 1 0 0 0 0]\n",
      " [0 0 0 1 1 1 1 1 0 0]\n",
      " [0 0 1 1 1 1 1 1 1 0]\n",
      " [0 0 1 1 1 1 1 1 1 0]\n",
      " [0 1 1 1 1 1 1 1 1 1]\n",
      " [0 0 1 1 1 1 1 1 1 0]\n",
      " [0 0 1 1 1 1 1 1 1 0]\n",
      " [0 0 0 1 1 1 1 1 0 0]\n",
      " [0 0 0 0 0 1 0 0 0 0]]\n"
     ]
    }
   ],
   "source": [
    "import numpy as np\n",
    "\n",
    "# Define grid dimensions\n",
    "grid_size = 10\n",
    "\n",
    "# Create a grid of zeros\n",
    "grid = np.zeros((grid_size, grid_size), dtype=int)\n",
    "\n",
    "# Calculate the center of the grid\n",
    "center_x = grid_size // 2\n",
    "center_y = grid_size // 2\n",
    "\n",
    "# Define radius of the circle\n",
    "radius = min(center_x, center_y) - 1  # Ensure the circle fits within the grid\n",
    "\n",
    "# Add obstacles in a circular pattern\n",
    "for x in range(grid_size):\n",
    "    for y in range(grid_size):\n",
    "        if (x - center_x)**2 + (y - center_y)**2 <= radius**2:\n",
    "            grid[x, y] = 1\n",
    "\n",
    "# Print the circular grid with obstacles\n",
    "print(grid)"
   ]
  },
  {
   "cell_type": "code",
   "execution_count": 5,
   "metadata": {},
   "outputs": [
    {
     "name": "stdout",
     "output_type": "stream",
     "text": [
      "Defaulting to user installation because normal site-packages is not writeable\n",
      "Collecting numpy\n",
      "  Downloading numpy-1.26.4-cp310-cp310-manylinux_2_17_x86_64.manylinux2014_x86_64.whl (18.2 MB)\n",
      "\u001b[2K     \u001b[90m━━━━━━━━━━━━━━━━━━━━━━━━━━━━━━━━━━━━━━━━\u001b[0m \u001b[32m18.2/18.2 MB\u001b[0m \u001b[31m81.4 MB/s\u001b[0m eta \u001b[36m0:00:00\u001b[0m00:01\u001b[0m00:01\u001b[0m\n",
      "\u001b[?25hInstalling collected packages: numpy\n",
      "Successfully installed numpy-1.26.4\n"
     ]
    }
   ],
   "source": [
    "!pip install numpy\n"
   ]
  },
  {
   "cell_type": "code",
   "execution_count": 7,
   "metadata": {},
   "outputs": [
    {
     "name": "stdout",
     "output_type": "stream",
     "text": [
      "[[0 0 0 0 0 1 1 1 1 1]\n",
      " [0 0 0 0 0 0 1 1 1 1]\n",
      " [0 0 0 0 0 0 1 1 1 1]\n",
      " [0 0 0 0 0 0 0 1 1 1]\n",
      " [0 0 0 0 0 0 0 0 0 1]\n",
      " [1 0 0 0 0 0 0 0 0 1]\n",
      " [1 1 1 0 0 0 0 1 1 1]\n",
      " [1 1 1 1 0 0 1 1 1 1]\n",
      " [1 1 1 1 0 0 1 1 1 1]\n",
      " [1 1 1 1 1 1 1 1 1 1]]\n"
     ]
    }
   ],
   "source": [
    "import numpy as np\n",
    "\n",
    "# Define grid dimensions\n",
    "grid_size = 10\n",
    "\n",
    "# Create a grid of zeros\n",
    "grid = np.zeros((grid_size, grid_size), dtype=int)\n",
    "\n",
    "# Calculate the center of the grid\n",
    "center_x = grid_size // 2\n",
    "center_y = grid_size // 2\n",
    "\n",
    "# Define radius of the circle\n",
    "radius = min(center_x, center_y) - 1  # Ensure the circle fits within the grid\n",
    "\n",
    "# Define the corners to add obstacles\n",
    "corners = [(0, grid_size-1), (grid_size-1, grid_size-1), (grid_size-1, 0)]\n",
    "\n",
    "# Add obstacles in a circular pattern in the defined corners\n",
    "for corner in corners:\n",
    "    corner_x, corner_y = corner\n",
    "    for x in range(grid_size):\n",
    "        for y in range(grid_size):\n",
    "            if (x - corner_x)**2 + (y - corner_y)**2 <= radius**2:\n",
    "                grid[x, y] = 1\n",
    "\n",
    "# Print the grid with obstacles in the specified corners\n",
    "print(grid)\n"
   ]
  }
 ],
 "metadata": {
  "language_info": {
   "name": "python"
  }
 },
 "nbformat": 4,
 "nbformat_minor": 2
}
