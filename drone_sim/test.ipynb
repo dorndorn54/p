{
 "cells": [
  {
   "cell_type": "code",
   "execution_count": 2,
   "metadata": {},
   "outputs": [
    {
     "name": "stdout",
     "output_type": "stream",
     "text": [
      "Square Vertices:\n",
      "[[ 95.85786438  45.85786438]\n",
      " [ 95.85786438  54.14213562]\n",
      " [104.14213562  54.14213562]\n",
      " [104.14213562  45.85786438]]\n"
     ]
    }
   ],
   "source": [
    "import numpy as np\n",
    "\n",
    "def calculate_square_vertices(drone_x, drone_y, drone_height, coverage_angle):\n",
    "    # Convert coverage angle from degrees to radians\n",
    "    coverage_angle_rad = np.radians(coverage_angle)\n",
    "    \n",
    "    # Calculate the side length of the square coverage area\n",
    "    side_length = 2 * drone_height * np.tan(coverage_angle_rad / 2)\n",
    "    \n",
    "    # Calculate the half side length\n",
    "    half_side = side_length / 2\n",
    "    \n",
    "    # Calculate the coordinates of the vertices of the square\n",
    "    vertices = np.array([\n",
    "        [drone_x - half_side, drone_y - half_side],  # Bottom-left\n",
    "        [drone_x - half_side, drone_y + half_side],  # Top-left\n",
    "        [drone_x + half_side, drone_y + half_side],  # Top-right\n",
    "        [drone_x + half_side, drone_y - half_side]   # Bottom-right\n",
    "    ])\n",
    "    \n",
    "    return vertices\n",
    "\n",
    "# Example usage\n",
    "drone_x = 100  # drone's x position\n",
    "drone_y = 50   # drone's y position\n",
    "drone_height = 10  # meters\n",
    "coverage_angle = 45  # degrees\n",
    "\n",
    "vertices = calculate_square_vertices(drone_x, drone_y, drone_height, coverage_angle)\n",
    "print(\"Square Vertices:\")\n",
    "print(vertices)"
   ]
  }
 ],
 "metadata": {
  "kernelspec": {
   "display_name": "Python 3",
   "language": "python",
   "name": "python3"
  },
  "language_info": {
   "codemirror_mode": {
    "name": "ipython",
    "version": 3
   },
   "file_extension": ".py",
   "mimetype": "text/x-python",
   "name": "python",
   "nbconvert_exporter": "python",
   "pygments_lexer": "ipython3",
   "version": "3.12.1"
  }
 },
 "nbformat": 4,
 "nbformat_minor": 2
}
