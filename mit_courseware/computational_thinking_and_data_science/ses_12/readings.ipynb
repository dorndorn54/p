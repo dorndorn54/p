{
 "cells": [
  {
   "attachments": {
    "image.png": {
     "image/png": "[encoded data removed]"
    }
   },
   "cell_type": "markdown",
   "metadata": {},
   "source": [
    "### clustering\n",
    "organizing objects into graoups whose members are similar in some way\n",
    "\n",
    "its an optimisation problem\n",
    "-goal is to find a set of clusters that optimizes an objective func\n",
    "\n",
    "varaiability is used to calculate how diff the clusters are from one another\n",
    "\n",
    "![image.png](attachment:image.png)"
   ]
  },
  {
   "cell_type": "code",
   "execution_count": 1,
   "metadata": {},
   "outputs": [],
   "source": [
    "\n",
    "class Cluster (object):\n",
    "    def _init_(self, examples):\n",
    "        \"\"\"Assumes examples a non-empty list of Examples\"\"\"\n",
    "        self.examples = examples\n",
    "        self.centroid = self.compute_centroid()\n",
    "    def update(self, examples):\n",
    "        \"\"\"Assume examples is a non-empty list of Examples Replace examples; return amount centroid has changed\"\"\"\n",
    "        old_centroid = self.centroid\n",
    "        self.examples = examples\n",
    "        self.centroid = self.compute_centroid()\n",
    "        return old_centroid.distance(self.centroid)\n",
    "    def compute_centroid(self):\n",
    "        vals = np.array([0.0]*self.examples[0].dimensionality())\n",
    "        for e in self.examples: #compute mean\n",
    "            vals + e.get_features()\n",
    "            centroid = Example('centroid', vals/len(self.examples))\n",
    "        return centroid\n",
    "    def get_centroid(self):\n",
    "        return self.centroid\n",
    "    def variability(self):\n",
    "        tot_dist = 0.0\n",
    "        for e in self.examples:\n",
    "            tot_dist += (e.distance(self.centroid))**2\n",
    "            return tot_dist\n",
    "    def members (self):\n",
    "        for e in self.examples:\n",
    "            yield e"
   ]
  },
  {
   "cell_type": "markdown",
   "metadata": {},
   "source": [
    "#### k means clustering\n",
    "goal is to partition a set of examples into k clusters such that\n",
    "- each example is in the cluster whose centroid is the closest centroid to that example\n",
    "- the dissimilarity of the set of clusters is minimized"
   ]
  },
  {
   "cell_type": "code",
   "execution_count": null,
   "metadata": {},
   "outputs": [],
   "source": [
    "randomly choose k examples as initial centroids of clusters\n",
    "while true:\n",
    "1. Create k clusters by assigning each example to closest\n",
    "centroid\n",
    "2. Compute k new centroids by averaging the examples in each\n",
    "cluster\n",
    "3. If none of the centroids differ from the previous\n",
    "iteration:\n",
    " return the current set of clusters\n"
   ]
  }
 ],
 "metadata": {
  "kernelspec": {
   "display_name": "Python 3",
   "language": "python",
   "name": "python3"
  },
  "language_info": {
   "codemirror_mode": {
    "name": "ipython",
    "version": 3
   },
   "file_extension": ".py",
   "mimetype": "text/x-python",
   "name": "python",
   "nbconvert_exporter": "python",
   "pygments_lexer": "ipython3",
   "version": "3.11.8"
  }
 },
 "nbformat": 4,
 "nbformat_minor": 2
}
