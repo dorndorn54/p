{
 "cells": [
  {
   "cell_type": "markdown",
   "metadata": {},
   "source": [
    "## 12.1\n",
    "search algorithms is used to find an item or group of items in a space\n"
   ]
  },
  {
   "cell_type": "code",
   "execution_count": 1,
   "metadata": {},
   "outputs": [
    {
     "ename": "SyntaxError",
     "evalue": "'return' outside function (2159997390.py, line 5)",
     "output_type": "error",
     "traceback": [
      "\u001b[1;36m  Cell \u001b[1;32mIn[1], line 5\u001b[1;36m\u001b[0m\n\u001b[1;33m    return True\u001b[0m\n\u001b[1;37m    ^\u001b[0m\n\u001b[1;31mSyntaxError\u001b[0m\u001b[1;31m:\u001b[0m 'return' outside function\n"
     ]
    }
   ],
   "source": [
    "# how python finds elements in a list\n",
    "\n",
    "for i in range(len(L)):\n",
    "    if L[i] == e:\n",
    "        return True\n",
    "return False\n"
   ]
  },
  {
   "cell_type": "markdown",
   "metadata": {},
   "source": [
    "In python a list is represented as a length and sequence of fixed size pointers to objects.\n",
    "\n",
    "first elements is the a pointer to an integer indicating the length of the list\n",
    "and the subsequent boxes are pointers to the elements\n",
    "\n",
    "### Indirection\n",
    "involves accessing something by first accessing something else that contains a reference to the thing initally sought\n",
    "\n",
    "### Pseudo code for binary search\n",
    "\n",
    "1. pick an index i, that divides the list L roughly in half\n",
    "2. ask L[i] == e\n",
    "3. else ask if L[i] is larger or smaller than e\n",
    "4. Depending upon the answer search either the left or right half of L for e\n"
   ]
  },
  {
   "cell_type": "code",
   "execution_count": 3,
   "metadata": {},
   "outputs": [],
   "source": [
    "#binary search code\n",
    "\n",
    "def search(L, e):\n",
    "    #helper function for binary search\n",
    "    # return True if e is in L and False otherwise\n",
    "    \n",
    "    def bin_search(L, e, low, high):\n",
    "        if high == low:\n",
    "            return L[low] == e\n",
    "        mid = (low + high) / 2\n",
    "        if L[mid] == e:\n",
    "            return True\n",
    "        elif L[mid] > e:\n",
    "            if low == mid:\n",
    "                return False\n",
    "            else:\n",
    "                return bin_search(L, e, low, mid-1)\n",
    "        else:\n",
    "            return bin_search(L, e, mid+1, high)\n",
    "        \n",
    "    if len(L) == 0:\n",
    "        return False\n",
    "    else:\n",
    "        return bin_search(L, e, 0, len(L)-1)"
   ]
  },
  {
   "cell_type": "markdown",
   "metadata": {},
   "source": [
    "> why does the code using mid+1 rather than mid in the second recursive call\n",
    "\n",
    "mid has already been checked and hence it is redundant to check the mid position"
   ]
  },
  {
   "cell_type": "markdown",
   "metadata": {},
   "source": [
    "## higher-order operations on Lists\n",
    "\n",
    "a functin is higher order because it has an arugment that is itself a function\n"
   ]
  },
  {
   "cell_type": "code",
   "execution_count": 1,
   "metadata": {},
   "outputs": [],
   "source": [
    "def apply_to_each(L, f):\n",
    "    \"\"\"_mutates L by replacing each element, e, of L by f(e)_\n",
    "\n",
    "    Args:\n",
    "        L (_list_): _a list of numbers_\n",
    "        f (_tfunction_): _a function call_\n",
    "    \"\"\"\n",
    "    \n",
    "    L = [1, -2, 3.33]\n",
    "    print(\"L =\", L)\n",
    "    apply_to_each(L, abs)"
   ]
  },
  {
   "cell_type": "markdown",
   "metadata": {},
   "source": [
    "### map function\n",
    "this is the built in higher order function\n",
    "\n",
    "it is a unary function and the second argument is any ordered collection of values suitable as arguments to the first argument"
   ]
  },
  {
   "cell_type": "code",
   "execution_count": 2,
   "metadata": {},
   "outputs": [
    {
     "data": {
      "text/plain": [
       "['0', '1', '2', '3', '4', '5', '6', '7', '8', '9']"
      ]
     },
     "execution_count": 2,
     "metadata": {},
     "output_type": "execute_result"
    }
   ],
   "source": [
    "list(map(str, range(10)))\n",
    "\n",
    "# same as \n",
    "\n",
    "[str(e) for e in range(10)]"
   ]
  },
  {
   "cell_type": "code",
   "execution_count": 3,
   "metadata": {},
   "outputs": [
    {
     "name": "stdout",
     "output_type": "stream",
     "text": [
      "4\n",
      "36\n",
      "16\n"
     ]
    }
   ],
   "source": [
    "for i in map(lambda x: x**2, [2, 6, 4]):\n",
    "    print(i)\n"
   ]
  },
  {
   "cell_type": "code",
   "execution_count": 4,
   "metadata": {},
   "outputs": [
    {
     "name": "stdout",
     "output_type": "stream",
     "text": [
      "1\n",
      "28\n",
      "9\n"
     ]
    }
   ],
   "source": [
    "L1 = [1, 28, 36]\n",
    "L2 = [2, 57, 9]\n",
    "for i in map(min, L1, L2):\n",
    " print(i)\n"
   ]
  },
  {
   "cell_type": "code",
   "execution_count": 21,
   "metadata": {},
   "outputs": [
    {
     "name": "stdout",
     "output_type": "stream",
     "text": [
      "9\n"
     ]
    }
   ],
   "source": [
    "def f(L1, L2):\n",
    "    x = 0\n",
    "    for i in map(lambda L1, L2: L1**L2, L1, L2):\n",
    "        x += i\n",
    "    print(x)\n",
    "    \n",
    "L1 = [1, 2]\n",
    "L2 = [2, 3]\n",
    "\n",
    "f(L1, L2)\n",
    "        "
   ]
  }
 ],
 "metadata": {
  "kernelspec": {
   "display_name": "Python 3",
   "language": "python",
   "name": "python3"
  },
  "language_info": {
   "codemirror_mode": {
    "name": "ipython",
    "version": 3
   },
   "file_extension": ".py",
   "mimetype": "text/x-python",
   "name": "python",
   "nbconvert_exporter": "python",
   "pygments_lexer": "ipython3",
   "version": "3.11.7"
  }
 },
 "nbformat": 4,
 "nbformat_minor": 2
}
