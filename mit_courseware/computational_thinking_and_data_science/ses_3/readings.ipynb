{
 "cells": [
  {
   "cell_type": "markdown",
   "metadata": {},
   "source": [
    "### Graph optimisation problems\n",
    "Graph is a set of objects called nodes connected by edges\n",
    "\n",
    "If edges are unidrectional, the grapg is called a directed graph / digraph. If there is an edge from n1 to n2, n1 is the source / parent node and n2 is the destination / child node\n",
    "\n",
    "source of E0 is n1, the desintation of En is n2\n",
    "\n",
    "#### Represent a city\n",
    "- weighted graph can be used\n",
    "- highwat can be represented as a graph, cities are nodes and highway are edges\n",
    "- a weight is applied based on the density of the area"
   ]
  },
  {
   "cell_type": "code",
   "execution_count": 1,
   "metadata": {},
   "outputs": [],
   "source": [
    "class Node(object):\n",
    "    def __init__(self, name):\n",
    "        \"\"\"assumes name is a string\"\"\"\n",
    "        self._name = name\n",
    "        # the two functions below return the same thing\n",
    "    def get_name(self):\n",
    "        return self._name\n",
    "    def __str__(self):\n",
    "        return self._name\n",
    "\n",
    "class Edge(object):\n",
    "    def __iit__(self, src, dest):\n",
    "        \"\"\"\"assumes src and dest are nodes\"\"\"\n",
    "        self._src = src\n",
    "        self._dest = dest\n",
    "    def get_source(self):\n",
    "        return self._src\n",
    "    def get_destination(self):\n",
    "        return self._dest\n",
    "    def __str__(self):\n",
    "        return self._src.get_name() + '->' + self._dest.get_name()\n",
    "    \n",
    "class Weighted_edge(Edge):\n",
    "    def __init__(self, src, dest, weight = 1.0):\n",
    "        \"\"\"assumes arc and dest are nodes, weight is a number\"\"\"\n",
    "        self._src = src\n",
    "        self._dest = dest\n",
    "        self._weight = weight\n",
    "    def get_weight(self):\n",
    "        return self._weight\n",
    "    def __str__(self):\n",
    "        return(f'{self._src.get_name()}->({self._weigt})' + f'{self._dest.get_name}')"
   ]
  },
  {
   "cell_type": "markdown",
   "metadata": {},
   "source": [
    "#### How to represent a digraph\n",
    "\n",
    "##### Adjacnecy matrix\n",
    "n * n adjacency matrix where n is the number of nodes. Each cell contains info about the edges connecting the pair of nodes\n",
    "\n",
    "If edges are unweighted, each entry is True if and onl if there is and edge from i to j\n",
    "\n",
    "##### Adjacency list\n",
    "variable nodes is a python list containing the names of the nodes in the Digraph. Connectvity is represented using adjacency list implemented as a dictionary"
   ]
  },
  {
   "cell_type": "markdown",
   "metadata": {},
   "source": [
    "### Classic graph theoretic problems\n",
    "##### Shortest path\n",
    "For some pair of nodes, n1 and n2, find the\n",
    "shortest sequence of edges <sn, dn> (source node and destination\n",
    "node), such that\n",
    "- The source node in the first edge is n1.\n",
    "- The destination node of the last edge is n2.\n",
    "- For all edges e1 and e2 in the sequence, if e2 follows e1 in\n",
    "the sequence, the source node of e2 is the destination node\n",
    "of e1\n",
    "##### Shortest weighted path\n",
    "Includes weights to the edges and calculate the route with the lowest total weight\n",
    "##### Min cut\n",
    "Given two sets of nodes in a graph, remove edges such that all paths from one set of nodes is removed to another set of nodes\n",
    "##### Max clique\n",
    "A clique is a set of nodes such that there is an edge between each paur of nodes in the set"
   ]
  },
  {
   "cell_type": "markdown",
   "metadata": {},
   "source": [
    "### Shortest path: DFS vs BFS\n",
    "> G is the graph representing the friend relation. Find the shortest sequence of nodes such that ni + n(i+1) are cosecutive nodes in sequence and there is an edge connecting them.\n"
   ]
  },
  {
   "cell_type": "code",
   "execution_count": null,
   "metadata": {},
   "outputs": [],
   "source": [
    "def print_path(path):\n",
    "    \"\"\"assumes path is a list of nodes\"\"\"\n",
    "    result = ''\n",
    "    for item, num in enumerate(path):\n",
    "        result = result + str(path[num])\n",
    "        if num != len(path) - 1:\n",
    "                result = result + '->'\n",
    "    return result\n",
    "\n",
    "def DFS(graph, start, end, path, shortest, to_print = False):\n",
    "    \"\"\"_returns shortest path from start to end in graph_\n",
    "\n",
    "    Args:\n",
    "        graph (_digraph_): _description_\n",
    "        start (_nodes_): _description_\n",
    "        end (_nodes_): _description_\n",
    "        path (_type_): _description_\n",
    "        shortest (_type_): _description_\n",
    "        to_print (bool, optional): _description_. Defaults to False.\n",
    "    \"\"\"\n",
    "    path = path + [start]\n",
    "    if to_print:\n",
    "        print(\"Current DFS path: \", print_path(path))\n",
    "    if start == end:\n",
    "        return path\n",
    "    for node in graph.children_of(start):\n",
    "        if node not in path:\n",
    "            if shortest == None or len(path) < len(shortest):\n",
    "                new_path = DFS(graph, start, end, path, shortest, to_print)\n",
    "                if new_path != None:\n",
    "                    shortest = new_path\n",
    "    return shortest\n",
    "\n",
    "def shortest_path(graph, start, end, to_print = False):\n",
    "    return(graph, start, end, [], None, to_print)"
   ]
  },
  {
   "cell_type": "markdown",
   "metadata": {},
   "source": [
    "#### BFS\n",
    "visits all children of the start node, it then visits all children of each of those nodes.\n",
    "\n",
    "Usually done iteratively. Generates the paths in ascending order of length, the first path found with the goal is guarantedd to have a minimum number of edges\n"
   ]
  }
 ],
 "metadata": {
  "kernelspec": {
   "display_name": "Python 3",
   "language": "python",
   "name": "python3"
  },
  "language_info": {
   "codemirror_mode": {
    "name": "ipython",
    "version": 3
   },
   "file_extension": ".py",
   "mimetype": "text/x-python",
   "name": "python",
   "nbconvert_exporter": "python",
   "pygments_lexer": "ipython3",
   "version": "3.11.7"
  }
 },
 "nbformat": 4,
 "nbformat_minor": 2
}
