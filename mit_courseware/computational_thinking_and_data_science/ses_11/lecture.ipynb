{
 "cells": [
  {
   "cell_type": "markdown",
   "metadata": {},
   "source": [
    "#### intro to machine learning\n",
    "\n",
    "give the computer output data and expect it to build a program to solve another problem\n",
    "\n",
    "##### basic paradigm\n",
    "- observe a set of examples: training data\n",
    "- infer something about the process generated from the data\n",
    "- use inference to make predictions: testing data\n",
    "\n",
    "supervised learning\n",
    "- given a set of feature/label pairs, find a rule that predicts the label associated with prev unseen input\n",
    "\n",
    "unsupervised\n",
    "- no labels/ feature pair, find the best grouping"
   ]
  },
  {
   "cell_type": "code",
   "execution_count": null,
   "metadata": {},
   "outputs": [],
   "source": [
    "import pylab, random\n",
    "#from test_hypothesis import *\n",
    "\n",
    "#set line width\n",
    "pylab.rcParams['lines.linewidth'] = 4\n",
    "#set font size for titles \n",
    "pylab.rcParams['axes.titlesize'] = 18\n",
    "#set font size for labels on axes\n",
    "pylab.rcParams['axes.labelsize'] = 18\n",
    "#set size of numbers on x-axis\n",
    "pylab.rcParams['xtick.labelsize'] = 16\n",
    "#set size of numbers on y-axis\n",
    "pylab.rcParams['ytick.labelsize'] = 16\n",
    "#set size of ticks on x-axis\n",
    "pylab.rcParams['xtick.major.size'] = 7\n",
    "#set size of ticks on y-axis\n",
    "pylab.rcParams['ytick.major.size'] = 7\n",
    "#set size of markers\n",
    "pylab.rcParams['lines.markersize'] = 10"
   ]
  }
 ],
 "metadata": {
  "kernelspec": {
   "display_name": "Python 3",
   "language": "python",
   "name": "python3"
  },
  "language_info": {
   "name": "python",
   "version": "3.11.8"
  }
 },
 "nbformat": 4,
 "nbformat_minor": 2
}
