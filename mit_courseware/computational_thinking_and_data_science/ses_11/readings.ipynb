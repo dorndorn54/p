{
 "cells": [
  {
   "cell_type": "markdown",
   "metadata": {},
   "source": [
    "### A quick look at machine learning\n",
    "\n",
    "the basics is\n",
    "- observe a set of examples frequently called the training data, represents some statistical phenomena\n",
    "- use inference techniques to create a model of a process that could generate the observed examples\n",
    "- use that model to make predictions about prev unseen examples"
   ]
  },
  {
   "cell_type": "markdown",
   "metadata": {},
   "source": [
    "#### supervised learning\n",
    "start with a set of feature vector/value pairs. the goal is to derive from these pairs a rule that predicts the value associated with a prev unseen feature vector \n",
    "\n",
    "#### regression models\n",
    "associate a real number with each feature vector\n",
    "\n",
    "uses include identifying fraudulent use of credit cards and recommending movies to people"
   ]
  },
  {
   "cell_type": "markdown",
   "metadata": {},
   "source": [
    "#### unsupervised learning\n",
    "given a set of feature vectors but no labels. uncover latent structure in the set of feature vectors\n",
    "\n",
    "#### latent variable\n",
    "variable that is not directly observed but inferred\n"
   ]
  },
  {
   "cell_type": "markdown",
   "metadata": {},
   "source": [
    "#### signal to noise ration\n",
    "ratio of useful input to irrelevant input\n",
    "\n",
    "Goal is to seperate features in the available data from the noise in the data\n",
    "\n",
    "#### feature elimination\n",
    "used to determine if the characteristics is useful\n",
    "\n",
    "however there is a problem with generalising data\n",
    "- suppose we have a dataset where reptiles are determined to lay eggs and have scales\n",
    "- however there are some reptiles that do not full either criterias\n",
    "- lack sufficent feature vectors to classify it properly\n",
    "\n"
   ]
  },
  {
   "attachments": {
    "00232.jpg": {
     "image/jpeg": "[encoded data removed]"
    },
    "00265.jpg": {
     "image/jpeg": "[encoded data removed]"
    }
   },
   "cell_type": "markdown",
   "metadata": {},
   "source": [
    "#### distance metrics\n",
    "using mathematical values to calculate if two items are similar\n",
    "\n",
    "If we say True = 1 and False = 0, we get the following feature vectors:\n",
    "\n",
    "- Rattlesnake: [1,1,1,1,0]\n",
    "- Boa constrictor: [0,1,0,1,0]\n",
    "- Dart frog: [1,0,1,0,4]\n",
    "\n",
    "![00265.jpg](attachment:00265.jpg)\n",
    "\n",
    "![00232.jpg](attachment:00232.jpg)"
   ]
  },
  {
   "cell_type": "code",
   "execution_count": 1,
   "metadata": {},
   "outputs": [],
   "source": [
    "def minkowskiDist (v1, v2, p):\n",
    "    \"\"\"\n",
    "    Assumes v1 and v2 are equal-length arrays of numbers\n",
    "    Returns Minkowski distance of order p between v1 and v2\n",
    "    \"\"\" \n",
    "    dist = 0.0\n",
    "    for i in range(len(v1)):\n",
    "        dist += abs(v1[i] - v2[i])**p\n",
    "    return dist**(1/p)"
   ]
  }
 ],
 "metadata": {
  "kernelspec": {
   "display_name": "Python 3",
   "language": "python",
   "name": "python3"
  },
  "language_info": {
   "codemirror_mode": {
    "name": "ipython",
    "version": 3
   },
   "file_extension": ".py",
   "mimetype": "text/x-python",
   "name": "python",
   "nbconvert_exporter": "python",
   "pygments_lexer": "ipython3",
   "version": "3.12.1"
  }
 },
 "nbformat": 4,
 "nbformat_minor": 2
}
