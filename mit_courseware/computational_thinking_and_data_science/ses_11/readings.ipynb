{
 "cells": [
  {
   "cell_type": "markdown",
   "metadata": {},
   "source": [
    "### A quick look at machine learning\n",
    "\n",
    "the basics is\n",
    "- observe a set of examples frequently called the training data, represents some statistical phenomena\n",
    "- use inference techniques to create a model of a process that could generate the observed examples\n",
    "- use that model to make predictions about prev unseen examples"
   ]
  },
  {
   "cell_type": "markdown",
   "metadata": {},
   "source": [
    "#### supervised learning\n",
    "start with a set of feature vector/value pairs. the goal is to derive from these pairs a rule that predicts the value associated with a prev unseen feature vector \n",
    "\n",
    "#### regression models\n",
    "associate a real number with each feature vector\n",
    "\n",
    "uses include identifying fraudulent use of credit cards and recommending movies to people"
   ]
  },
  {
   "cell_type": "markdown",
   "metadata": {},
   "source": [
    "#### unsupervised learning\n",
    "given a set of feature vectors but no labels. uncover latent structure in the set of feature vectors\n"
   ]
  }
 ],
 "metadata": {
  "language_info": {
   "name": "python"
  }
 },
 "nbformat": 4,
 "nbformat_minor": 2
}
