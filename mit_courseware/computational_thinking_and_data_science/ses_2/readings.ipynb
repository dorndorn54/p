{
 "cells": [
  {
   "cell_type": "markdown",
   "metadata": {},
   "source": [
    "### Dynamic programming\n",
    "\n",
    "In summary many problems are repitive, hence it would be a good idea to store the data to be accessed later"
   ]
  },
  {
   "cell_type": "code",
   "execution_count": 1,
   "metadata": {},
   "outputs": [
    {
     "data": {
      "text/plain": [
       "8"
      ]
     },
     "execution_count": 1,
     "metadata": {},
     "output_type": "execute_result"
    }
   ],
   "source": [
    "def fib(n):\n",
    "    \"\"\"Assumes n is an int >= 0\n",
    "    Returns Fibonacci of n\"\"\"\n",
    "    if n == 0 or n == 1:\n",
    "        return 1\n",
    "    else:\n",
    "        return fib(n-1) + fib(n-2)\n",
    "\n",
    "fib(5)"
   ]
  },
  {
   "cell_type": "code",
   "execution_count": 4,
   "metadata": {},
   "outputs": [
    {
     "name": "stdout",
     "output_type": "stream",
     "text": [
      "89\n",
      "0.0010006427764892578\n",
      "89\n",
      "0.0\n"
     ]
    }
   ],
   "source": [
    "import time\n",
    "\n",
    "def fib_memo(n, memo = None):\n",
    "    \"\"\"_returns fibonacci of n_\n",
    "\n",
    "    Args:\n",
    "        n (_int_): _fibonnaci value to be calculated to_\n",
    "        memo (_type_, optional): _description_. Defaults to None.\n",
    "    \"\"\"\n",
    "    if memo == None:\n",
    "        memo = {}\n",
    "    if n == 0 or n == 1:\n",
    "        return 1\n",
    "    try:\n",
    "        return memo[n]\n",
    "    except KeyError:\n",
    "        result = fib_memo(n-1, memo) + fib_memo(n-2, memo)\n",
    "        memo[n] = result\n",
    "        return result\n",
    "    \n",
    "def fib_tab(n):\n",
    "    \"\"\"_returns fibonacci of n_\n",
    "\n",
    "    Args:\n",
    "        n (_int_): _value to be calculated_\n",
    "    \"\"\"\n",
    "    \n",
    "    tab = [1]*(n+1)\n",
    "    for i in range(2, n+1):\n",
    "        tab[i] = tab[i-1] + tab[i-2]\n",
    "    return tab[n]\n",
    "\n",
    "start = time.time()\n",
    "print(fib_memo(10))\n",
    "end = time.time()\n",
    "print(end - start)\n",
    "\n",
    "start = time.time()\n",
    "print(fib_tab(10))\n",
    "end = time.time()\n",
    "print(end - start)\n",
    "        "
   ]
  }
 ],
 "metadata": {
  "kernelspec": {
   "display_name": "Python 3",
   "language": "python",
   "name": "python3"
  },
  "language_info": {
   "codemirror_mode": {
    "name": "ipython",
    "version": 3
   },
   "file_extension": ".py",
   "mimetype": "text/x-python",
   "name": "python",
   "nbconvert_exporter": "python",
   "pygments_lexer": "ipython3",
   "version": "3.11.7"
  }
 },
 "nbformat": 4,
 "nbformat_minor": 2
}
