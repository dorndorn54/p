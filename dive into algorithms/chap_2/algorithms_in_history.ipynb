{
 "cells": [
  {
   "cell_type": "markdown",
   "metadata": {},
   "source": [
    "## algorithms in history"
   ]
  },
  {
   "cell_type": "markdown",
   "metadata": {},
   "source": [
    "### russian peasent multiplication\n",
    "\n",
    "two rows of values\n",
    "\n",
    "- halving on left\n",
    "- doubling on right\n",
    "\n",
    "### halving side\n",
    "- take previous entry and divide by 2 ignoring remainder\n",
    "- continue till value 1 left\n",
    "### doubling side\n",
    "- take the inital value and double it\n",
    "- continue till the doubling column has as many entries as halving column\n",
    "\n",
    "- cancel out every row having an even number for halving side\n",
    "- sum up all the values on the doubling side"
   ]
  },
  {
   "cell_type": "code",
   "execution_count": 2,
   "metadata": {},
   "outputs": [
    {
     "name": "stdout",
     "output_type": "stream",
     "text": [
      "1602\n"
     ]
    }
   ],
   "source": [
    "# implementing rpm in python\n",
    "import math\n",
    "import pandas as pd\n",
    "\n",
    "n1 = 89\n",
    "n2 = 18\n",
    "\n",
    "# halving list for n1\n",
    "halving = [n1]\n",
    "while(min(halving) > 1):\n",
    "    halving.append(math.floor(min(halving) / 2))\n",
    "    \n",
    "# doubling list for n2\n",
    "doubling = [n2]\n",
    "while(len(doubling) < len(halving)):\n",
    "    doubling.append(max(doubling) * 2)\n",
    "\n",
    "# zip the two lists together\n",
    "half_double = pd.DataFrame(zip(halving,doubling))\n",
    "\n",
    "# remove the rows with the even halving value\n",
    "half_double = half_double.loc[half_double[0]%2 == 1,:]\n",
    "#explanation is in markdown 1.1\n",
    "\n",
    "answer = sum(half_double.loc[:,1])\n",
    "\n",
    "print(answer)\n"
   ]
  },
  {
   "cell_type": "markdown",
   "metadata": {},
   "source": [
    "## 1.1\n",
    "\n",
    "we use the loc functionality in the pandas module\n",
    "to select only the rows we want. When we use loc, we specify\n",
    "which rows and columns we want to select in the square\n",
    "brackets ([]) that follow it. Inside the square brackets, we\n",
    "specify which rows and columns we want in order, separated by\n",
    "a comma: the format is [row, column]. For example, if we\n",
    "wanted the row with index 4 and the column with index 1, we\n",
    "could write half_double.loc[4,1]. In this case, we will do more\n",
    "than just specify indices. We will express a logical pattern for\n",
    "which rows we want: we want all rows where halving is odd.\n",
    "We specify the halving column in our logic with\n",
    "half_double[0], since it’s the column with index 0. We specify\n",
    "oddness with %2 == 1. Finally, we specify that we want all\n",
    "columns after the comma by writing a colon, which is a\n",
    "shortcut indicating that we want every column"
   ]
  },
  {
   "cell_type": "markdown",
   "metadata": {},
   "source": [
    "### Euclids algorithm"
   ]
  },
  {
   "cell_type": "code",
   "execution_count": 4,
   "metadata": {},
   "outputs": [],
   "source": [
    "# euclids algorithm\n",
    "\n",
    "def gcd(x, y):\n",
    "    larger = max(x, y)\n",
    "    smaller = min(x, y)\n",
    "\n",
    "    remainder = larger % smaller\n",
    "    \n",
    "    if (remainder == 0):\n",
    "        return smaller\n",
    "\n",
    "    if (remainder != 0):\n",
    "        return gcd(smaller, remainder)"
   ]
  },
  {
   "cell_type": "markdown",
   "metadata": {},
   "source": [
    "### japanese magic squares\n",
    "\n",
    "- all rows all columns and both the main diagonals have the same sum"
   ]
  },
  {
   "cell_type": "code",
   "execution_count": 5,
   "metadata": {},
   "outputs": [],
   "source": [
    "luoshu = [[4,9,2],[3,5,7],[8,1,6]]"
   ]
  },
  {
   "cell_type": "code",
   "execution_count": 8,
   "metadata": {},
   "outputs": [
    {
     "name": "stdout",
     "output_type": "stream",
     "text": [
      "All values in the list are the same.\n"
     ]
    }
   ],
   "source": [
    "def check_square(luoshu):\n",
    "    # determine the length of the square\n",
    "    count = len(luoshu[0])\n",
    "    sums = list()\n",
    "\n",
    "    # check rows\n",
    "    for row in range(count):\n",
    "        sums.append(sum(luoshu[row]))\n",
    "\n",
    "    # check columns\n",
    "    for col in range(count):\n",
    "        col_sum = 0\n",
    "        for pos in range(count):\n",
    "            col_sum += luoshu[pos][col]\n",
    "        sums.append(col_sum)\n",
    "\n",
    "    # check the diagonals\n",
    "    diagonal_sum = 0\n",
    "    for row in range(count):\n",
    "        diagonal_sum += luoshu[row][row]\n",
    "    sums.append(diagonal_sum)\n",
    "\n",
    "    diagonal_sum = 0\n",
    "    for row in range(count):\n",
    "        diagonal_sum += luoshu[row][count - 1 - row]\n",
    "    sums.append(diagonal_sum)\n",
    "\n",
    "    if all(element == sums[count] for element in sums):\n",
    "        print(\"All values in the list are the same.\")\n",
    "    else:\n",
    "        print(\"Not all values in the list are the same.\")\n",
    "\n",
    "check_square(luoshu)"
   ]
  },
  {
   "cell_type": "markdown",
   "metadata": {},
   "source": [
    "### generating a markdown square"
   ]
  },
  {
   "cell_type": "code",
   "execution_count": null,
   "metadata": {},
   "outputs": [],
   "source": [
    "import random\n",
    "def fillsquare(square,entry_i,entry_j,howfull):\n",
    " while(sum(math.isnan(i) for row in square for i in row) >\n",
    "howfull):\n",
    " where_we_can_go = []\n",
    " if(entry_i < (n - 1) and entry_j < (n - 1)):\n",
    " where_we_can_go.append('down_right')\n",
    " if(entry_i < (n - 1) and entry_j > 0):\n",
    " where_we_can_go.append('down_left')\n",
    " if(entry_i > 0 and entry_j < (n - 1)):\n",
    " where_we_can_go.append('up_right')\n",
    " if(entry_i > 0 and entry_j > 0):\n",
    " where_we_can_go.append('up_left')\n",
    " where_to_go = random.choice(where_we_can_go)\n",
    " if(where_to_go == 'up_right'):\n",
    " new_entry_i = entry_i - 1\n",
    " new_entry_j = entry_j + 1\n",
    " square[new_entry_i][new_entry_j] = rule1(square[entry_i]\n",
    "[entry_j],n,True)\n",
    " if(where_to_go == 'down_left'):\n",
    " new_entry_i = entry_i + 1\n",
    " new_entry_j = entry_j - 1\n",
    " square[new_entry_i][new_entry_j] = rule1(square[entry_i]\n",
    "[entry_j],n,False)\n",
    " if(where_to_go == 'up_left' and (entry_i + entry_j) != (n)):\n",
    " new_entry_i = entry_i - 1\n",
    " new_entry_j = entry_j - 1\n",
    " square[new_entry_i][new_entry_j] = rule2(square[entry_i]\n",
    "[entry_j],n,True)\n",
    " if(where_to_go == 'down_right' and (entry_i + entry_j) != (n\u00022)):\n",
    " new_entry_i = entry_i + 1\n",
    " new_entry_j = entry_j + 1\n",
    " square[new_entry_i][new_entry_j] = rule2(square[entry_i]\n",
    "[entry_j],n,False)\n",
    " if(where_to_go == 'up_left' and (entry_i + entry_j) == (n)):\n",
    " new_entry_i = entry_i - 1\n",
    " new_entry_j = entry_j - 1\n",
    " square[new_entry_i][new_entry_j] = rule3(square[entry_i]\n",
    "[entry_j],n,True)\n",
    " if(where_to_go == 'down_right' and (entry_i + entry_j) == (n\u00022)):\n",
    " new_entry_i = entry_i + 1\n",
    " new_entry_j = entry_j + 1\n",
    " square[new_entry_i][new_entry_j] = rule3(square[entry_i]\n",
    "[entry_j],n,False)\n",
    " 1 entry_i = new_entry_i\n",
    " entry_j = new_entry_j\n",
    " return(square)"
   ]
  }
 ],
 "metadata": {
  "kernelspec": {
   "display_name": "Python 3",
   "language": "python",
   "name": "python3"
  },
  "language_info": {
   "codemirror_mode": {
    "name": "ipython",
    "version": 3
   },
   "file_extension": ".py",
   "mimetype": "text/x-python",
   "name": "python",
   "nbconvert_exporter": "python",
   "pygments_lexer": "ipython3",
   "version": "3.11.7"
  }
 },
 "nbformat": 4,
 "nbformat_minor": 2
}
